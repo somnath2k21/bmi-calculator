{
  "nbformat": 4,
  "nbformat_minor": 0,
  "metadata": {
    "colab": {
      "name": "Untitled8.ipynb",
      "provenance": []
    },
    "kernelspec": {
      "name": "python3",
      "display_name": "Python 3"
    },
    "language_info": {
      "name": "python"
    }
  },
  "cells": [
    {
      "cell_type": "code",
      "execution_count": 10,
      "metadata": {
        "colab": {
          "base_uri": "https://localhost:8080/"
        },
        "id": "C-1PzGGouYZ7",
        "outputId": "8e4eac54-7bdb-47a9-cb66-064badc5e933"
      },
      "outputs": [
        {
          "output_type": "stream",
          "name": "stdout",
          "text": [
            "       BMI Category BMI Range (kg/m2)    Health risk\n",
            "0  Moderately obese         30 - 34.9    Medium risk\n",
            "1  Moderately obese         30 - 34.9    Medium risk\n",
            "2     Normal weight       18.5 - 24.9       Low risk\n",
            "3     Normal weight       18.5 - 24.9       Low risk\n",
            "4  Moderately obese         30 - 34.9    Medium risk\n",
            "5        Overweight         25 - 29.9  Enhanced risk\n",
            "\n",
            "Total number of overweight : 1\n"
          ]
        }
      ],
      "source": [
        "import pandas as pd\n",
        "data = [{\"Gender\": \"Male\", \"HeightCm\": 171, \"WeightKg\": 96 },\n",
        "{ \"Gender\": \"Male\", \"HeightCm\": 161, \"WeightKg\": 85 },\n",
        "{ \"Gender\": \"Male\", \"HeightCm\": 180, \"WeightKg\": 77 },\n",
        "{ \"Gender\": \"Female\", \"HeightCm\": 166, \"WeightKg\": 62},\n",
        "{\"Gender\": \"Female\", \"HeightCm\": 150, \"WeightKg\": 70},\n",
        "{\"Gender\": \"Female\", \"HeightCm\": 167, \"WeightKg\": 82}]\n",
        "list_data = []\n",
        "total_overweight = 0\n",
        "for i in data:\n",
        "  bmi = i['WeightKg'] / (i['HeightCm']/100)**2\n",
        "  msg = ''\n",
        "  if bmi <= 18.4:\n",
        "    msg = 'Malnutrition risk'\n",
        "    case = {\"BMI Category\":\"Underweight\",\"BMI Range (kg/m2)\":\"18.4 and below\",\"Health risk\": msg}\n",
        "  elif bmi <= 24.9:\n",
        "    msg = 'Low risk'\n",
        "    case = {\"BMI Category\":\"Normal weight\",\"BMI Range (kg/m2)\":\"18.5 - 24.9\",\"Health risk\": msg}\n",
        "  elif bmi <=29.9:\n",
        "    msg = 'Enhanced risk'\n",
        "    case = {\"BMI Category\":\"Overweight\",\"BMI Range (kg/m2)\":\"25 - 29.9\",\"Health risk\": msg}\n",
        "    total_overweight +=1\n",
        "  elif bmi <= 34.9:\n",
        "    msg = 'Medium risk'\n",
        "    case = {\"BMI Category\":\"Moderately obese\",\"BMI Range (kg/m2)\":\"30 - 34.9\",\"Health risk\": msg}\n",
        "  elif bmi <= 39.9:\n",
        "    msg = 'High risk'\n",
        "    case = {\"BMI Category\":\"Severely obese\",\"BMI Range (kg/m2)\":\"35 - 39.9\",\"Health risk\": msg}\n",
        "  else:\n",
        "    msg = 'Very high risk'\n",
        "    case = {\"BMI Category\":\"Very severely obese\",\"BMI Range (kg/m2)\":\"40 and above\",\"Health risk\": msg}\n",
        "  list_data.append(case)\n",
        "print(pd.DataFrame(list_data))\n",
        "\n",
        "print(\"\\nTotal number of overweight : \" + str(total_overweight))"
      ]
    }
  ]
}